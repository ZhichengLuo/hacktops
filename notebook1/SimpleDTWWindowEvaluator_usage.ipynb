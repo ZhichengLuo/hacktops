{
 "cells": [
  {
   "cell_type": "code",
   "execution_count": 7,
   "metadata": {},
   "outputs": [],
   "source": [
    "import pandas as pd\n",
    "from hacktops.model import SimpleDTWWindowEvaluator, TopFinder\n",
    "from hacktops.utils import get_true_windows\n",
    "from dtaidistance.dtw import distance as dtai_dtw\n",
    "from tslearn.metrics import dtw as tslearn_dtw\n",
    "import random\n",
    "\n",
    "top_ = 'CONRAD'\n",
    "df_logs_ = pd.read_parquet(\"../data/logs.parquet\")\n",
    "df_loc_ = pd.read_parquet(\"../data/loc.parquet\")\n",
    "df_tops_ = pd.read_parquet(\"../data/tops.parquet\")"
   ]
  },
  {
   "cell_type": "code",
   "execution_count": 8,
   "metadata": {},
   "outputs": [
    {
     "name": "stdout",
     "output_type": "stream",
     "text": [
      "NAN FOUND\n",
      "NAN FOUND\n",
      "NAN FOUND\n",
      "NAN FOUND\n",
      "119196 windows extracted from 600 wells\n",
      "X: (119196, 61)\n",
      "y: (119196,)\n",
      "8940 true windows left\n"
     ]
    }
   ],
   "source": [
    "true_windows4train = get_true_windows(df_logs_, df_tops_, top_)"
   ]
  },
  {
   "cell_type": "code",
   "execution_count": 9,
   "metadata": {},
   "outputs": [
    {
     "name": "stdout",
     "output_type": "stream",
     "text": [
      "8940\n"
     ]
    }
   ],
   "source": [
    "print(len(true_windows4train))"
   ]
  },
  {
   "cell_type": "code",
   "execution_count": 10,
   "metadata": {},
   "outputs": [],
   "source": [
    "simple_dtw_model = SimpleDTWWindowEvaluator(metric=tslearn_dtw)\n",
    "simple_dtw_model.fit(random.sample(list(true_windows4train),500))\n",
    "# simple_dtw_model.fit(true_windows4train)\n",
    "\n",
    "top_finder = TopFinder(simple_dtw_model, top_)\n",
    "top_finder.examine_dataset(df_tops_)"
   ]
  },
  {
   "cell_type": "code",
   "execution_count": 11,
   "metadata": {},
   "outputs": [],
   "source": [
    "test_well_name = 512333171.0\n",
    "df_test_well = df_logs_[df_logs_['wellName'] == test_well_name]"
   ]
  },
  {
   "cell_type": "code",
   "execution_count": 12,
   "metadata": {},
   "outputs": [
    {
     "name": "stdout",
     "output_type": "stream",
     "text": [
      "1780 candidate windows\n"
     ]
    },
    {
     "name": "stderr",
     "output_type": "stream",
     "text": [
      "100%|██████████| 1780/1780 [01:05<00:00, 27.15it/s]\n"
     ]
    },
    {
     "data": {
      "text/plain": [
       "6692.5"
      ]
     },
     "execution_count": 12,
     "metadata": {},
     "output_type": "execute_result"
    }
   ],
   "source": [
    "top_finder.find_top(df_test_well)"
   ]
  },
  {
   "cell_type": "code",
   "execution_count": 13,
   "metadata": {},
   "outputs": [
    {
     "data": {
      "text/plain": [
       "6553.0"
      ]
     },
     "execution_count": 13,
     "metadata": {},
     "output_type": "execute_result"
    }
   ],
   "source": [
    "from hacktops.utils import get_true_depth\n",
    "true_depth = get_true_depth(test_well_name, top_, df_tops_)\n",
    "true_depth"
   ]
  }
 ],
 "metadata": {
  "kernelspec": {
   "display_name": "Python 3.8.10 ('env': venv)",
   "language": "python",
   "name": "python3"
  },
  "language_info": {
   "codemirror_mode": {
    "name": "ipython",
    "version": 3
   },
   "file_extension": ".py",
   "mimetype": "text/x-python",
   "name": "python",
   "nbconvert_exporter": "python",
   "pygments_lexer": "ipython3",
   "version": "3.8.10"
  },
  "orig_nbformat": 4,
  "vscode": {
   "interpreter": {
    "hash": "eb540749f30a2f0990a618c4295148462894ce61a5f1dfe4abd63c4d90d07adf"
   }
  }
 },
 "nbformat": 4,
 "nbformat_minor": 2
}
