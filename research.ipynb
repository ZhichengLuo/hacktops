{
 "cells": [
  {
   "cell_type": "code",
   "execution_count": 2,
   "metadata": {},
   "outputs": [],
   "source": [
    "import os\n",
    "import glob\n",
    "import pandas as pd"
   ]
  },
  {
   "cell_type": "code",
   "execution_count": 10,
   "metadata": {},
   "outputs": [
    {
     "data": {
      "text/plain": [
       "['C:\\\\Users\\\\User\\\\Documents\\\\CentraleSupelec\\\\3A\\\\hackaton_schlumberger\\\\data\\\\loc.parquet',\n",
       " 'C:\\\\Users\\\\User\\\\Documents\\\\CentraleSupelec\\\\3A\\\\hackaton_schlumberger\\\\data\\\\logs.parquet',\n",
       " 'C:\\\\Users\\\\User\\\\Documents\\\\CentraleSupelec\\\\3A\\\\hackaton_schlumberger\\\\data\\\\tops.parquet']"
      ]
     },
     "execution_count": 10,
     "metadata": {},
     "output_type": "execute_result"
    }
   ],
   "source": [
    "data_dir = r\"C:\\Users\\User\\Documents\\CentraleSupelec\\3A\\hackaton_schlumberger\\data\"\n",
    "data_files = glob.glob(os.path.join(data_dir, '*'))\n",
    "data_files"
   ]
  },
  {
   "cell_type": "code",
   "execution_count": 15,
   "metadata": {},
   "outputs": [],
   "source": [
    "loc_file = os.path.join(data_dir, 'loc.parquet')\n",
    "logs_file = os.path.join(data_dir, 'logs.parquet')"
   ]
  },
  {
   "cell_type": "code",
   "execution_count": 16,
   "metadata": {},
   "outputs": [],
   "source": [
    "localisation = pd.read_parquet(loc_file, engine='pyarrow')\n",
    "logs = pd.read_parquet(logs_file, engine='pyarrow')"
   ]
  },
  {
   "cell_type": "code",
   "execution_count": 23,
   "metadata": {},
   "outputs": [],
   "source": [
    "test = logs.head()"
   ]
  },
  {
   "cell_type": "code",
   "execution_count": 24,
   "metadata": {},
   "outputs": [
    {
     "data": {
      "text/html": [
       "<div>\n",
       "<style scoped>\n",
       "    .dataframe tbody tr th:only-of-type {\n",
       "        vertical-align: middle;\n",
       "    }\n",
       "\n",
       "    .dataframe tbody tr th {\n",
       "        vertical-align: top;\n",
       "    }\n",
       "\n",
       "    .dataframe thead th {\n",
       "        text-align: right;\n",
       "    }\n",
       "</style>\n",
       "<table border=\"1\" class=\"dataframe\">\n",
       "  <thead>\n",
       "    <tr style=\"text-align: right;\">\n",
       "      <th></th>\n",
       "      <th>wellName</th>\n",
       "      <th>DEPTH</th>\n",
       "      <th>GR</th>\n",
       "    </tr>\n",
       "  </thead>\n",
       "  <tbody>\n",
       "    <tr>\n",
       "      <th>1</th>\n",
       "      <td>512320698.0</td>\n",
       "      <td>421.0</td>\n",
       "      <td>96.9752</td>\n",
       "    </tr>\n",
       "    <tr>\n",
       "      <th>2</th>\n",
       "      <td>512320698.0</td>\n",
       "      <td>421.5</td>\n",
       "      <td>102.3324</td>\n",
       "    </tr>\n",
       "    <tr>\n",
       "      <th>3</th>\n",
       "      <td>512320698.0</td>\n",
       "      <td>422.0</td>\n",
       "      <td>104.6432</td>\n",
       "    </tr>\n",
       "    <tr>\n",
       "      <th>4</th>\n",
       "      <td>512320698.0</td>\n",
       "      <td>422.5</td>\n",
       "      <td>99.2187</td>\n",
       "    </tr>\n",
       "    <tr>\n",
       "      <th>5</th>\n",
       "      <td>512320698.0</td>\n",
       "      <td>423.0</td>\n",
       "      <td>92.0200</td>\n",
       "    </tr>\n",
       "  </tbody>\n",
       "</table>\n",
       "</div>"
      ],
      "text/plain": [
       "      wellName  DEPTH        GR\n",
       "1  512320698.0  421.0   96.9752\n",
       "2  512320698.0  421.5  102.3324\n",
       "3  512320698.0  422.0  104.6432\n",
       "4  512320698.0  422.5   99.2187\n",
       "5  512320698.0  423.0   92.0200"
      ]
     },
     "execution_count": 24,
     "metadata": {},
     "output_type": "execute_result"
    }
   ],
   "source": [
    "test.wellName = test.wellName"
   ]
  },
  {
   "cell_type": "code",
   "execution_count": 19,
   "metadata": {},
   "outputs": [
    {
     "data": {
      "text/html": [
       "<div>\n",
       "<style scoped>\n",
       "    .dataframe tbody tr th:only-of-type {\n",
       "        vertical-align: middle;\n",
       "    }\n",
       "\n",
       "    .dataframe tbody tr th {\n",
       "        vertical-align: top;\n",
       "    }\n",
       "\n",
       "    .dataframe thead th {\n",
       "        text-align: right;\n",
       "    }\n",
       "</style>\n",
       "<table border=\"1\" class=\"dataframe\">\n",
       "  <thead>\n",
       "    <tr style=\"text-align: right;\">\n",
       "      <th></th>\n",
       "      <th>wellName</th>\n",
       "      <th>DEPTH</th>\n",
       "      <th>GR</th>\n",
       "    </tr>\n",
       "  </thead>\n",
       "  <tbody>\n",
       "    <tr>\n",
       "      <th>1</th>\n",
       "      <td>512320698.0</td>\n",
       "      <td>421.0</td>\n",
       "      <td>96.9752</td>\n",
       "    </tr>\n",
       "    <tr>\n",
       "      <th>2</th>\n",
       "      <td>512320698.0</td>\n",
       "      <td>421.5</td>\n",
       "      <td>102.3324</td>\n",
       "    </tr>\n",
       "    <tr>\n",
       "      <th>3</th>\n",
       "      <td>512320698.0</td>\n",
       "      <td>422.0</td>\n",
       "      <td>104.6432</td>\n",
       "    </tr>\n",
       "    <tr>\n",
       "      <th>4</th>\n",
       "      <td>512320698.0</td>\n",
       "      <td>422.5</td>\n",
       "      <td>99.2187</td>\n",
       "    </tr>\n",
       "    <tr>\n",
       "      <th>5</th>\n",
       "      <td>512320698.0</td>\n",
       "      <td>423.0</td>\n",
       "      <td>92.0200</td>\n",
       "    </tr>\n",
       "  </tbody>\n",
       "</table>\n",
       "</div>"
      ],
      "text/plain": [
       "      wellName  DEPTH        GR\n",
       "1  512320698.0  421.0   96.9752\n",
       "2  512320698.0  421.5  102.3324\n",
       "3  512320698.0  422.0  104.6432\n",
       "4  512320698.0  422.5   99.2187\n",
       "5  512320698.0  423.0   92.0200"
      ]
     },
     "execution_count": 19,
     "metadata": {},
     "output_type": "execute_result"
    }
   ],
   "source": [
    "logs.head()#.pivot(columns='wellName', values='DEPTH')"
   ]
  },
  {
   "cell_type": "code",
   "execution_count": 14,
   "metadata": {},
   "outputs": [
    {
     "data": {
      "text/html": [
       "<div>\n",
       "<style scoped>\n",
       "    .dataframe tbody tr th:only-of-type {\n",
       "        vertical-align: middle;\n",
       "    }\n",
       "\n",
       "    .dataframe tbody tr th {\n",
       "        vertical-align: top;\n",
       "    }\n",
       "\n",
       "    .dataframe thead th {\n",
       "        text-align: right;\n",
       "    }\n",
       "</style>\n",
       "<table border=\"1\" class=\"dataframe\">\n",
       "  <thead>\n",
       "    <tr style=\"text-align: right;\">\n",
       "      <th></th>\n",
       "      <th>Latitude</th>\n",
       "      <th>Longitude</th>\n",
       "    </tr>\n",
       "    <tr>\n",
       "      <th>wellName</th>\n",
       "      <th></th>\n",
       "      <th></th>\n",
       "    </tr>\n",
       "  </thead>\n",
       "  <tbody>\n",
       "    <tr>\n",
       "      <th>512320698.0</th>\n",
       "      <td>48.673353</td>\n",
       "      <td>2.145178</td>\n",
       "    </tr>\n",
       "    <tr>\n",
       "      <th>512320699.0</th>\n",
       "      <td>48.673353</td>\n",
       "      <td>2.150808</td>\n",
       "    </tr>\n",
       "    <tr>\n",
       "      <th>512320928.0</th>\n",
       "      <td>48.698713</td>\n",
       "      <td>2.140728</td>\n",
       "    </tr>\n",
       "    <tr>\n",
       "      <th>512320970.0</th>\n",
       "      <td>48.713273</td>\n",
       "      <td>2.150148</td>\n",
       "    </tr>\n",
       "    <tr>\n",
       "      <th>512320971.0</th>\n",
       "      <td>48.709603</td>\n",
       "      <td>2.145308</td>\n",
       "    </tr>\n",
       "  </tbody>\n",
       "</table>\n",
       "</div>"
      ],
      "text/plain": [
       "              Latitude  Longitude\n",
       "wellName                         \n",
       "512320698.0  48.673353   2.145178\n",
       "512320699.0  48.673353   2.150808\n",
       "512320928.0  48.698713   2.140728\n",
       "512320970.0  48.713273   2.150148\n",
       "512320971.0  48.709603   2.145308"
      ]
     },
     "execution_count": 14,
     "metadata": {},
     "output_type": "execute_result"
    }
   ],
   "source": [
    "data.head()"
   ]
  }
 ],
 "metadata": {
  "kernelspec": {
   "display_name": "Python 3",
   "language": "python",
   "name": "python3"
  },
  "language_info": {
   "codemirror_mode": {
    "name": "ipython",
    "version": 3
   },
   "file_extension": ".py",
   "mimetype": "text/x-python",
   "name": "python",
   "nbconvert_exporter": "python",
   "pygments_lexer": "ipython3",
   "version": "3.7.0"
  }
 },
 "nbformat": 4,
 "nbformat_minor": 2
}
